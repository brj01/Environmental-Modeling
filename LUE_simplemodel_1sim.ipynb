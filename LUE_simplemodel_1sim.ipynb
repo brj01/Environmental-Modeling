{
 "cells": [
  {
   "cell_type": "code",
   "execution_count": 73,
   "id": "a7e1ac91-538d-4ec3-9a84-8b382509c4da",
   "metadata": {
    "tags": []
   },
   "outputs": [],
   "source": [
    "# This is a simple model of LUE using only one simulation."
   ]
  },
  {
   "cell_type": "code",
   "execution_count": 83,
   "id": "8a595f06-4ffd-49c2-81c8-ed3535753ae7",
   "metadata": {},
   "outputs": [],
   "source": [
    "import numpy as np\n",
    "import pandas as pd\n",
    "import sys\n",
    "import pandas as pd \n",
    "from math import exp"
   ]
  },
  {
   "cell_type": "code",
   "execution_count": 84,
   "id": "d77e0a5a-ace7-492f-88d7-ba73ebaa1a9a",
   "metadata": {
    "tags": []
   },
   "outputs": [
    {
     "name": "stderr",
     "output_type": "stream",
     "text": [
      "/var/folders/08/8jyc_5897b9bsrrntp1y9jl40000gn/T/ipykernel_47438/1988076458.py:47: FutureWarning: The 'delim_whitespace' keyword in pd.read_csv is deprecated and will be removed in a future version. Use ``sep='\\s+'`` instead\n",
      "  df = pd.read_csv('simulation.txt', delim_whitespace=True)  # use sep=',' if it's comma-delimited\n"
     ]
    }
   ],
   "source": [
    "nb_iterations = 2000\n",
    "file_path = 'parameters1.txt' \n",
    "LUE0 = np.random.uniform(low=0.02,high=0.05,size=n) \n",
    "PmaxL = np.random.uniform(low=1.0,high=200.0,size=n) \n",
    "extk = np.random.uniform(low=.2,high=1.6,size=n) \n",
    "D_0 = np.random.uniform(low=1.0,high=9.0,size=n) \n",
    "R_eco = np.random.uniform(low=1.0,high=50.0,size=n) \n",
    "Q_10  = np.random.uniform(low=1.0,high=3.0,size=n) \n",
    "p1 = np.vstack((LUE0, PmaxL, extk, D_0, R_eco, Q_10))\n",
    "header=['LUE0','PmaxL','extk','D_0','R_eco', 'Q_10']\n",
    "p2 = pd.DataFrame(p1.T,columns = header)\n",
    "p2.to_csv('parameters1.txt', sep=' ', index=False)\n",
    "df_obs = pd.read_csv('face9806odd_input.csv')\n",
    "Ta_array = df_obs['Ta'][2:].to_numpy() \n",
    "PAR_array = df_obs['PAR'][2:].to_numpy()\n",
    "LAI_array = df_obs['LAI'][2:].to_numpy()\n",
    "VPD_array = df_obs['VPD'][2:].to_numpy()\n",
    "Ta_array = np.array(Ta_array, dtype=float)\n",
    "PAR_array = np.array(PAR_array, dtype=float)\n",
    "LAI_array = np.array(LAI_array, dtype=float)\n",
    "VPD_array = np.array(VPD_array, dtype=float)\n",
    "with open(file_path, 'r') as file:\n",
    "    lines = file.readlines()\n",
    "    headers = lines[0].strip().split()\n",
    "    values = lines[1].strip().split()\n",
    "lue0 = float(values[0]) \n",
    "pmaxl = float(values[1])\n",
    "extk = float(values[2])  \n",
    "d_0 = float(values[3])   \n",
    "r_eco = float(values[4])  \n",
    "q_10 = float(values[5] )  \n",
    "resp=(r_eco)*(q_10**(Ta_array/10.0))        \n",
    "gpp =((pmaxl/extk)*np.log((pmaxl+lue0*PAR_array)/((pmaxl+lue0*PAR_array)*np.exp(-extk*LAI_array)))/(1.0+(VPD_array/d_0)))\n",
    "file_path = 'running.txt' \n",
    "with open('running.txt', 'w') as f:\n",
    "    p2.to_csv('running.txt', sep=' ', index=False)\n",
    "file_path = 'accepted.txt' \n",
    "with open('accepted.txt', 'w') as f:\n",
    "    p2.to_csv('accepted.txt', sep=' ', index=False)\n",
    "with open('simulation.txt', 'w') as f:\n",
    "    f.write(\"gpp_obsv resp_obsv\\n\")\n",
    "    for i in range(len(gpp)):\n",
    "        f.write(f\"{gpp[i]} {resp[i]}\\n\")    \n",
    "file_path = 'prob.txt'\n",
    "with open('prob.txt', 'w') as f:\n",
    "    pass\n",
    "df = pd.read_csv('simulation.txt', delim_whitespace=True)  # use sep=',' if it's comma-delimited\n",
    "gpp_obsv = df['gpp_obsv'].to_numpy()\n",
    "resp_obsv = df['resp_obsv'].to_numpy()"
   ]
  },
  {
   "cell_type": "code",
   "execution_count": 85,
   "id": "ef7059ab-13b6-4dee-a98c-45ea20097397",
   "metadata": {
    "tags": []
   },
   "outputs": [],
   "source": [
    "def generatemcmc(runningfile):    \n",
    "    with open(runningfile, 'r') as file:\n",
    "        r = np.random.uniform(low=-.5, high =.5, size=1) \n",
    "        D = .5\n",
    "        lines = file.readlines()\n",
    "        headers = lines[0].strip().split()\n",
    "        values = lines[1].strip().split()\n",
    "        values = [v.strip('[]') for v in values]\n",
    "        values\n",
    "    lue0 = float(values[0]) + (r * ((.05 - .02) / D))\n",
    "    if lue0 > .05:\n",
    "        lue0 = .02 + (lue0-.05)\n",
    "    if lue0 < .02:\n",
    "        lue0 = (.05 - lue0) + .02\n",
    "    pmaxL = float(values[1]) + (r * ((200 - 1) / D))\n",
    "    if pmaxL > 200:\n",
    "        pmaxL = 1 + (pmaxL-200)\n",
    "    if pmaxL < 1:\n",
    "        pmaxL = (200 - pmaxL) + 1\n",
    "    extk = float(values[2]) +  (r * ((1.6 - .2) / D))\n",
    "    if extk > 1.6:\n",
    "            extk = .2 + (extk-1.6)\n",
    "    if extk < .2:\n",
    "            extk = (1.6 - extk) + .2\n",
    "    d_0 = float(values[3]) + (r * ((9 - 1) / D))\n",
    "    if d_0 > 9:\n",
    "            d_0 = 1 + (d_0-9)\n",
    "    if d_0 < 1:\n",
    "            d_0 = (9 - d_0) + 1\n",
    "    r_eco = float(values[4])  + (r * ((50 - 1) / D))\n",
    "    if r_eco > 50:\n",
    "            r_eco = 1 + (r_eco-50)\n",
    "    if r_eco < 1:\n",
    "            r_eco = (50 - r_eco) + 1\n",
    "    q_10 = float(values[5]) + (r * ((3 - 1) / D))\n",
    "    if q_10 > 3:\n",
    "            q_10 = 1 + (q_10 - 3)\n",
    "    if q_10 < 1:\n",
    "            q_10 = (3 - q_10) + 1\n",
    "    return lue0, pmaxL, extk, d_0, r_eco, q_10\n",
    "\n",
    "def simulation (nb_iteration, max_jobs):\n",
    "    for i in range (0, nb_iteration):    \n",
    "        lue0, pmaxL, extk, d_0, r_eco, q_10 = generatemcmc ('running.txt')\n",
    "        for j in range(1, max_jobs + 1):  \n",
    "            resp_sim =(r_eco)*(q_10**(Ta_array/10.0))      \n",
    "            gpp_sim =((pmaxL/extk)*np.log((pmaxL+lue0*PAR_array)/((pmaxL+lue0*PAR_array)*np.exp(-extk*LAI_array)))/(1.0+(VPD_array/d_0)))\n",
    "            gpp_sum = np.sum((gpp_obsv - gpp_sim)**2) / (2 * np.std(gpp_obsv)**2)\n",
    "            resp_sum = np.sum((resp_obsv - resp_sim)**2) / (2 * (0.5 * np.std(resp_obsv))**2)\n",
    "            log_prob = - (gpp_sum + resp_sum)\n",
    "            if i == 0:\n",
    "                with open('prob.txt', 'w') as f:\n",
    "                    f.write(str(log_prob) + '\\n')\n",
    "            with open('prob.txt', 'r') as f:\n",
    "                first_line = f.readline().strip()\n",
    "                log_prob_prev = float(first_line)\n",
    "                u = np.random.uniform(0, 1)\n",
    "                delta = log_prob - log_prob_prev\n",
    "                if delta >= 0 or np.log(u) < delta:\n",
    "                    with open('prob.txt', 'w') as f:\n",
    "                        f.write(str(log_prob) + '\\n')\n",
    "                    with open('running.txt', 'r') as f:\n",
    "                        lines = f.readlines()\n",
    "                        new_params = f\"{lue0} {pmaxL} {extk} {d_0} {r_eco} {q_10}\\n\"\n",
    "                        lines[1] = new_params\n",
    "                    with open('running.txt', 'w') as f:\n",
    "                        f.writelines(lines)\n",
    "                    with open('accepted.txt', 'a') as f:\n",
    "                        f.write(f\"{lue0} {pmaxL} {extk} {d_0} {r_eco} {q_10}\\n\")"
   ]
  },
  {
   "cell_type": "code",
   "execution_count": 86,
   "id": "d40c388e-6d86-412d-8a37-8b5ed7638b51",
   "metadata": {
    "tags": []
   },
   "outputs": [],
   "source": [
    "simulation (2000, 1)"
   ]
  },
  {
   "cell_type": "code",
   "execution_count": null,
   "id": "ba3c5a57-1618-433a-a262-82a4dc0532e5",
   "metadata": {},
   "outputs": [],
   "source": [
    "\n"
   ]
  },
  {
   "cell_type": "code",
   "execution_count": null,
   "id": "e41eaa9e-9d73-476f-89b6-29b2da4010c8",
   "metadata": {},
   "outputs": [],
   "source": []
  }
 ],
 "metadata": {
  "kernelspec": {
   "display_name": "Python 3 (ipykernel)",
   "language": "python",
   "name": "python3"
  },
  "language_info": {
   "codemirror_mode": {
    "name": "ipython",
    "version": 3
   },
   "file_extension": ".py",
   "mimetype": "text/x-python",
   "name": "python",
   "nbconvert_exporter": "python",
   "pygments_lexer": "ipython3",
   "version": "3.10.8"
  }
 },
 "nbformat": 4,
 "nbformat_minor": 5
}
